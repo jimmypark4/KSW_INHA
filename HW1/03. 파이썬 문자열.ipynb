{
 "cells": [
  {
   "cell_type": "markdown",
   "metadata": {},
   "source": [
    "### 021 문자열 인덱싱\n",
    "##### letters가 바인딩하는 문자열에서 첫번째와 세번째 문자를 출력하세요."
   ]
  },
  {
   "cell_type": "markdown",
   "metadata": {},
   "source": [
    "```python\n",
    "letters = 'python'\n",
    "```"
   ]
  },
  {
   "cell_type": "markdown",
   "metadata": {},
   "source": [
    "``>>`` letters = 'python'\n"
   ]
  },
  {
   "cell_type": "code",
   "execution_count": 6,
   "metadata": {},
   "outputs": [
    {
     "name": "stdout",
     "output_type": "stream",
     "text": [
      "p t\n"
     ]
    }
   ],
   "source": [
    "letters = 'python'\n",
    "print(letters[0] ,letters[2])"
   ]
  },
  {
   "cell_type": "markdown",
   "metadata": {},
   "source": [
    "### 022 문자열 슬라이싱\n",
    "##### 자동차 번호가 다음과 같을 때 뒤에 4자리만 출력하세요."
   ]
  },
  {
   "cell_type": "code",
   "execution_count": 9,
   "metadata": {},
   "outputs": [
    {
     "data": {
      "text/plain": [
       "'2210'"
      ]
     },
     "execution_count": 9,
     "metadata": {},
     "output_type": "execute_result"
    }
   ],
   "source": [
    "license_plate = \"24가 2210\"\n",
    "license_plate[-4:]"
   ]
  },
  {
   "cell_type": "markdown",
   "metadata": {},
   "source": [
    "### 023 문자열 인덱싱\n",
    "##### 아래의 문자열에서 '홀' 만 출력하세요."
   ]
  },
  {
   "cell_type": "code",
   "execution_count": 13,
   "metadata": {},
   "outputs": [
    {
     "data": {
      "text/plain": [
       "'홀홀홀'"
      ]
     },
     "execution_count": 13,
     "metadata": {},
     "output_type": "execute_result"
    }
   ],
   "source": [
    "string = \"홀짝홀짝홀짝\"\n",
    "string[::2]"
   ]
  },
  {
   "cell_type": "markdown",
   "metadata": {},
   "source": [
    "### 024 문자열 슬라이싱\n",
    "##### 문자열을 거꾸로 뒤집어 출력하세요."
   ]
  },
  {
   "cell_type": "code",
   "execution_count": 14,
   "metadata": {},
   "outputs": [
    {
     "data": {
      "text/plain": [
       "'NOHTYP'"
      ]
     },
     "execution_count": 14,
     "metadata": {},
     "output_type": "execute_result"
    }
   ],
   "source": [
    "string = \"PYTHON\"\n",
    "string[::-1]"
   ]
  },
  {
   "cell_type": "markdown",
   "metadata": {},
   "source": [
    "### 025 문자열 치환\n",
    "##### 아래의 전화번호에서 하이푼 ('-')을 제거하고 출력하세요."
   ]
  },
  {
   "cell_type": "code",
   "execution_count": 15,
   "metadata": {},
   "outputs": [
    {
     "data": {
      "text/plain": [
       "'010 1111 2222'"
      ]
     },
     "execution_count": 15,
     "metadata": {},
     "output_type": "execute_result"
    }
   ],
   "source": [
    "phone_number = \"010-1111-2222\"\n",
    "phone_number.replace(\"-\",\" \")"
   ]
  },
  {
   "cell_type": "markdown",
   "metadata": {},
   "source": []
  },
  {
   "cell_type": "markdown",
   "metadata": {},
   "source": [
    "### 026 문자열 다루기\n",
    "##### 25번 문제의 전화번호를 아래와 같이 모두 붙여 출력하세요."
   ]
  },
  {
   "cell_type": "code",
   "execution_count": 16,
   "metadata": {},
   "outputs": [
    {
     "data": {
      "text/plain": [
       "'01011112222'"
      ]
     },
     "execution_count": 16,
     "metadata": {},
     "output_type": "execute_result"
    }
   ],
   "source": [
    "phone_number.replace(\"-\",\"\")"
   ]
  },
  {
   "cell_type": "markdown",
   "metadata": {},
   "source": [
    "### 027 문자열 다루기\n",
    "##### url 에 저장된 웹 페이지 주소에서 도메인을 출력하세요."
   ]
  },
  {
   "cell_type": "code",
   "execution_count": 18,
   "metadata": {},
   "outputs": [
    {
     "name": "stdout",
     "output_type": "stream",
     "text": [
      "kr\n"
     ]
    }
   ],
   "source": [
    "url = \"http://sharebook.kr\"\n",
    "print(url[-2:])\n",
    "##############\n",
    "#코드를 적어주세요\n",
    "\n",
    "\n",
    "##############"
   ]
  },
  {
   "cell_type": "markdown",
   "metadata": {},
   "source": [
    "### 028 문자열은 immutable\n",
    "##### 아래 코드의 실행 결과를 예상해보세요."
   ]
  },
  {
   "cell_type": "markdown",
   "metadata": {},
   "source": [
    "```python\n",
    "lang = 'python'\n",
    "lang[0] = 'P'\n",
    "print(lang)\n",
    "```"
   ]
  },
  {
   "cell_type": "markdown",
   "metadata": {},
   "source": [
    "### 029 replace 메서드\n",
    "##### 아래 문자열에서 소문자 'a'를 대문자 'A'로 변경하세요."
   ]
  },
  {
   "cell_type": "code",
   "execution_count": 20,
   "metadata": {},
   "outputs": [
    {
     "data": {
      "text/plain": [
       "'Abcdfe2A354A32A'"
      ]
     },
     "execution_count": 20,
     "metadata": {},
     "output_type": "execute_result"
    }
   ],
   "source": [
    "string = 'abcdfe2a354a32a'\n",
    "string.replace(\"a\",\"A\")\n",
    "##############\n",
    "#코드를 적어주세요\n",
    "\n",
    "\n",
    "##############"
   ]
  },
  {
   "cell_type": "markdown",
   "metadata": {},
   "source": [
    "### 030 replace 메서드\n",
    "##### 아래 코드의 실행 결과를 예상해보세요."
   ]
  },
  {
   "cell_type": "markdown",
   "metadata": {},
   "source": [
    "```python\n",
    "string = 'abcd'\n",
    "string.replace('b', 'B')\n",
    "print(string)\n",
    "결과: aBcd\n",
    "```"
   ]
  },
  {
   "cell_type": "markdown",
   "metadata": {},
   "source": [
    "### 031 문자열 합치기\n",
    "##### 아래 코드의 실행 결과를 예상해보세요."
   ]
  },
  {
   "cell_type": "markdown",
   "metadata": {},
   "source": [
    "```python\n",
    "a = \"3\"\n",
    "b = \"4\"\n",
    "print(a + b)\n",
    "결과:\"34\"\n",
    "```"
   ]
  },
  {
   "cell_type": "markdown",
   "metadata": {},
   "source": [
    "### 032 문자열 곱하기\n",
    "##### 아래 코드의 실행 결과를 예상해보세요."
   ]
  },
  {
   "cell_type": "markdown",
   "metadata": {},
   "source": [
    "```python\n",
    "print(\"Hi\" * 3)\n",
    "결과:\"HiHiHi\"\n",
    "```"
   ]
  },
  {
   "cell_type": "markdown",
   "metadata": {},
   "source": [
    "### 033 문자열 곱하기\n",
    "##### 화면에  ' - ' 를 80개 출력하세요."
   ]
  },
  {
   "cell_type": "code",
   "execution_count": 21,
   "metadata": {},
   "outputs": [
    {
     "name": "stdout",
     "output_type": "stream",
     "text": [
      "--------------------------------------------------------------------------------\n"
     ]
    }
   ],
   "source": [
    "print(\"-\"*80)"
   ]
  },
  {
   "cell_type": "markdown",
   "metadata": {},
   "source": [
    "### 034 문자열 곱하기\n",
    "##### 변수에 문자열 더하기와 문자열 곱하기를 사용해서 아래와 같이 출력해보세요.\n",
    "\n",
    "python java python java python java python java"
   ]
  },
  {
   "cell_type": "code",
   "execution_count": 25,
   "metadata": {},
   "outputs": [
    {
     "name": "stdout",
     "output_type": "stream",
     "text": [
      "python java python java python java \n"
     ]
    }
   ],
   "source": [
    "t1 = 'python'\n",
    "t2 = 'java'\n",
    "print((t1+' '+t2+' ')*3)\n"
   ]
  },
  {
   "cell_type": "markdown",
   "metadata": {},
   "source": [
    "### 035 문자열 출력\n",
    "##### 변수에 다음과 같이 문자열과 정수가 바인딩되어 있을 때  f-string을 사용해서 다음과 같이 출력해보세요.\n",
    "\n",
    "이름: 김민수 나이: 10\n",
    "\n",
    "이름: 이철희 나이: 13"
   ]
  },
  {
   "cell_type": "code",
   "execution_count": 27,
   "metadata": {},
   "outputs": [
    {
     "name": "stdout",
     "output_type": "stream",
     "text": [
      "이름 : 김민수 나이 : 10\n",
      "이름 : 이철희 나이 : 13\n"
     ]
    }
   ],
   "source": [
    "name1 = \"김민수\" \n",
    "age1 = 10\n",
    "name2 = \"이철희\"\n",
    "age2 = 13\n",
    "\n",
    "f_string1=f'이름 : {name1} 나이 : {age1}'\n",
    "f_string2=f'이름 : {name2} 나이 : {age2}'\n",
    "print(f_string1)\n",
    "print(f_string2)\n",
    "\n",
    "##############\n",
    "#코드를 적어주세요\n",
    "\n",
    "\n",
    "##############"
   ]
  },
  {
   "cell_type": "markdown",
   "metadata": {},
   "source": [
    "### 036 문자열 출력\n",
    "##### 문자열의 format( ) 메서드를 사용해서 035번 문제를 다시 풀어보세요."
   ]
  },
  {
   "cell_type": "code",
   "execution_count": 28,
   "metadata": {},
   "outputs": [
    {
     "name": "stdout",
     "output_type": "stream",
     "text": [
      "이름 : 김민수 나이 : 10\n",
      "이름 : 이철희 나이 : 13\n"
     ]
    }
   ],
   "source": [
    "print('이름 : {name} 나이 : {age}'.format(name=name1,age=age1))\n",
    "print('이름 : {name} 나이 : {age}'.format(name=name2,age=age2))"
   ]
  },
  {
   "cell_type": "markdown",
   "metadata": {},
   "source": [
    "### 037 문자열 출력\n",
    "##### 파이썬 3.6부터 지원하는 f-string을 사용해서 035번 문제를 다시 풀어보세요."
   ]
  },
  {
   "cell_type": "code",
   "execution_count": 59,
   "metadata": {},
   "outputs": [
    {
     "name": "stdout",
     "output_type": "stream",
     "text": [
      "이름 : 김민수 나이 : 10\n",
      "이름 : 이철희 나이 : 13\n"
     ]
    }
   ],
   "source": [
    "f_string1=f'이름 : {name1} 나이 : {age1}'\n",
    "f_string2=f'이름 : {name2} 나이 : {age2}'\n",
    "print(f_string1)\n",
    "print(f_string2)"
   ]
  },
  {
   "cell_type": "markdown",
   "metadata": {},
   "source": [
    "### 038 컴마 제거하기\n",
    "##### 삼성전자의 상장주식수가 다음과 같습니다. 컴마를 제거한 후 이를 정수 타입으로 변환해보세요."
   ]
  },
  {
   "cell_type": "code",
   "execution_count": 30,
   "metadata": {},
   "outputs": [
    {
     "name": "stdout",
     "output_type": "stream",
     "text": [
      "5969782550\n"
     ]
    }
   ],
   "source": [
    "public_shares = \"5,969,782,550\"\n",
    "print(int(public_shares.replace(\",\",\"\")))\n"
   ]
  },
  {
   "cell_type": "markdown",
   "metadata": {},
   "source": [
    "### 039 문자열 슬라이싱\n",
    "##### 다음과 같은 문자열에서 '2020/03'만 출력하세요."
   ]
  },
  {
   "cell_type": "code",
   "execution_count": 32,
   "metadata": {},
   "outputs": [
    {
     "data": {
      "text/plain": [
       "'2020/03'"
      ]
     },
     "execution_count": 32,
     "metadata": {},
     "output_type": "execute_result"
    }
   ],
   "source": [
    "quarter = \"2020/03(E) (IFRS연결)\"\n",
    "quarter[:7]\n",
    "##############\n",
    "#코드를 적어주세요\n",
    "\n",
    "\n",
    "##############"
   ]
  },
  {
   "cell_type": "markdown",
   "metadata": {},
   "source": [
    "### 040 strip 메서드\n",
    "##### 문자열의 좌우의 공백이 있을 때 이를 제거해보세요."
   ]
  },
  {
   "cell_type": "code",
   "execution_count": 34,
   "metadata": {},
   "outputs": [
    {
     "data": {
      "text/plain": [
       "'삼성전자'"
      ]
     },
     "execution_count": 34,
     "metadata": {},
     "output_type": "execute_result"
    }
   ],
   "source": [
    "data = \"   삼성전자    \"\n",
    "data=data.strip()\n",
    "data\n",
    "##############\n",
    "#코드를 적어주세요\n",
    "\n",
    "\n",
    "##############"
   ]
  },
  {
   "cell_type": "markdown",
   "metadata": {},
   "source": [
    "### 041 upper 메서드\n",
    "##### 다음과 같은 문자열이 있을 때 이를 대문자 BTC_KRW로 변경하세요."
   ]
  },
  {
   "cell_type": "code",
   "execution_count": 35,
   "metadata": {},
   "outputs": [
    {
     "name": "stdout",
     "output_type": "stream",
     "text": [
      "BTC_KRW\n"
     ]
    }
   ],
   "source": [
    "ticker = \"btc_krw\"\n",
    "print(ticker.upper())\n",
    "##############\n",
    "#코드를 적어주세요\n",
    "\n",
    "\n",
    "##############"
   ]
  },
  {
   "cell_type": "markdown",
   "metadata": {},
   "source": [
    "### 042 lower 메서드\n",
    "##### 다음과 같은 문자열이 있을 때 이를 소문자 btc_krw로 변경하세요."
   ]
  },
  {
   "cell_type": "code",
   "execution_count": 36,
   "metadata": {},
   "outputs": [
    {
     "name": "stdout",
     "output_type": "stream",
     "text": [
      "btc_krw\n"
     ]
    }
   ],
   "source": [
    "ticker = \"BTC_KRW\"\n",
    "print(ticker.lower())\n",
    "##############\n",
    "#코드를 적어주세요\n",
    "\n",
    "\n",
    "##############"
   ]
  },
  {
   "cell_type": "markdown",
   "metadata": {},
   "source": [
    "### 043 capitalize 메서드\n",
    "##### 문자열 'hello'가 있을 때 이를 'Hello'로 변경해보세요."
   ]
  },
  {
   "cell_type": "code",
   "execution_count": 37,
   "metadata": {},
   "outputs": [
    {
     "name": "stdout",
     "output_type": "stream",
     "text": [
      "Hello\n"
     ]
    }
   ],
   "source": [
    "a='hello'\n",
    "\n",
    "print(a.capitalize())"
   ]
  },
  {
   "cell_type": "markdown",
   "metadata": {},
   "source": [
    "### 044 endswith 메서드\n",
    "##### 파일 이름이 문자열로 저장되어 있을 때 endswith 메서드를 사용해서 파일 이름이 'xlsx'로 끝나는지 확인해보세요."
   ]
  },
  {
   "cell_type": "code",
   "execution_count": 38,
   "metadata": {},
   "outputs": [
    {
     "data": {
      "text/plain": [
       "True"
      ]
     },
     "execution_count": 38,
     "metadata": {},
     "output_type": "execute_result"
    }
   ],
   "source": [
    "file_name = \"보고서.xlsx\"\n",
    "file_name.endswith('xlsx')\n",
    "##############\n",
    "#코드를 적어주세요\n",
    "\n",
    "\n",
    "##############"
   ]
  },
  {
   "cell_type": "markdown",
   "metadata": {},
   "source": [
    "### 045 endswith 메서드\n",
    "##### 파일 이름이 문자열로 저장되어 있을 때 endswith 메서드를 사용해서 파일 이름이 'xlsx' 또는 'xls'로 끝나는지 확인해보세요."
   ]
  },
  {
   "cell_type": "code",
   "execution_count": 43,
   "metadata": {},
   "outputs": [
    {
     "data": {
      "text/plain": [
       "True"
      ]
     },
     "execution_count": 43,
     "metadata": {},
     "output_type": "execute_result"
    }
   ],
   "source": [
    "file_name = \"보고서.xlsx\"\n",
    "file_name.endswith(('xlsx','xls'))\n",
    "\n",
    "##############\n",
    "#코드를 적어주세요\n",
    "\n",
    "\n",
    "##############"
   ]
  },
  {
   "cell_type": "markdown",
   "metadata": {},
   "source": [
    "### 046 startswith 메서드\n",
    "##### 파일 이름이 문자열로 저장되어 있을 때 startswith 메서드를 사용해서 파일 이름이 '2020'로 시작하는지 확인해보세요."
   ]
  },
  {
   "cell_type": "code",
   "execution_count": 44,
   "metadata": {},
   "outputs": [
    {
     "data": {
      "text/plain": [
       "True"
      ]
     },
     "execution_count": 44,
     "metadata": {},
     "output_type": "execute_result"
    }
   ],
   "source": [
    "file_name = \"2020_보고서.xlsx\"\n",
    "file_name.startswith('2020')\n",
    "\n",
    "##############\n",
    "#코드를 적어주세요\n",
    "\n",
    "\n",
    "##############"
   ]
  },
  {
   "cell_type": "markdown",
   "metadata": {},
   "source": [
    "### 047 split 메서드\n",
    "##### 다음과 같은 문자열이 있을 때 공백을 기준으로 문자열을 나눠보세요."
   ]
  },
  {
   "cell_type": "code",
   "execution_count": 45,
   "metadata": {},
   "outputs": [
    {
     "data": {
      "text/plain": [
       "['hello', 'world']"
      ]
     },
     "execution_count": 45,
     "metadata": {},
     "output_type": "execute_result"
    }
   ],
   "source": [
    "a = \"hello world\"\n",
    "r=a.split()\n",
    "r\n",
    "##############\n",
    "#코드를 적어주세요\n",
    "\n",
    "\n",
    "##############"
   ]
  },
  {
   "cell_type": "markdown",
   "metadata": {},
   "source": [
    "### 048 split 메서드\n",
    "##### 다음과 같이 문자열이 있을 때 btc와 krw로 나눠보세요."
   ]
  },
  {
   "cell_type": "code",
   "execution_count": 46,
   "metadata": {},
   "outputs": [
    {
     "data": {
      "text/plain": [
       "['btc', 'krw']"
      ]
     },
     "execution_count": 46,
     "metadata": {},
     "output_type": "execute_result"
    }
   ],
   "source": [
    "ticker = \"btc_krw\"\n",
    "r=ticker.split(\"_\")\n",
    "r\n",
    "##############\n",
    "#코드를 적어주세요\n",
    "\n",
    "\n",
    "##############"
   ]
  },
  {
   "cell_type": "markdown",
   "metadata": {},
   "source": [
    "### 049 split 메서드\n",
    "##### 다음과 같이 날짜를 표현하는 문자열이 있을 때 연도, 월, 일로 나눠보세요."
   ]
  },
  {
   "cell_type": "code",
   "execution_count": 47,
   "metadata": {},
   "outputs": [
    {
     "data": {
      "text/plain": [
       "['2020', '05', '01']"
      ]
     },
     "execution_count": 47,
     "metadata": {},
     "output_type": "execute_result"
    }
   ],
   "source": [
    "date = \"2020-05-01\"\n",
    "r=date.split(\"-\")\n",
    "r\n",
    "##############\n",
    "#코드를 적어주세요\n",
    "\n",
    "\n",
    "##############"
   ]
  },
  {
   "cell_type": "markdown",
   "metadata": {},
   "source": [
    "### 050 rstrip 메서드\n",
    "##### 문자열의 오른쪽에 공백이 있을 때 이를 제거해보세요."
   ]
  },
  {
   "cell_type": "code",
   "execution_count": 50,
   "metadata": {},
   "outputs": [
    {
     "data": {
      "text/plain": [
       "['039490']"
      ]
     },
     "execution_count": 50,
     "metadata": {},
     "output_type": "execute_result"
    }
   ],
   "source": [
    "data = \"039490     \"\n",
    "data=data.rsplit()\n",
    "data\n",
    "#코드를 적어주세요\n",
    "\n",
    "\n",
    "##############"
   ]
  }
 ],
 "metadata": {
  "kernelspec": {
   "display_name": "Python 3.7.13 ('test')",
   "language": "python",
   "name": "python3"
  },
  "language_info": {
   "codemirror_mode": {
    "name": "ipython",
    "version": 3
   },
   "file_extension": ".py",
   "mimetype": "text/x-python",
   "name": "python",
   "nbconvert_exporter": "python",
   "pygments_lexer": "ipython3",
   "version": "3.7.13"
  },
  "vscode": {
   "interpreter": {
    "hash": "96f18b7df73408a2e84bbb2485c01fb416d73b48828ae0d0504fcfd522329ce1"
   }
  }
 },
 "nbformat": 4,
 "nbformat_minor": 4
}
